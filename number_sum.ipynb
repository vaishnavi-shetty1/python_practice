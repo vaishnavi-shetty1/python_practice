{
  "metadata": {
    "kernelspec": {
      "language": "python",
      "display_name": "Python 3",
      "name": "python3"
    },
    "language_info": {
      "name": "python",
      "version": "3.10.14",
      "mimetype": "text/x-python",
      "codemirror_mode": {
        "name": "ipython",
        "version": 3
      },
      "pygments_lexer": "ipython3",
      "nbconvert_exporter": "python",
      "file_extension": ".py"
    },
    "kaggle": {
      "accelerator": "none",
      "dataSources": [],
      "dockerImageVersionId": 30786,
      "isInternetEnabled": false,
      "language": "python",
      "sourceType": "notebook",
      "isGpuEnabled": false
    },
    "colab": {
      "name": "number_sum",
      "provenance": [],
      "include_colab_link": true
    }
  },
  "nbformat_minor": 0,
  "nbformat": 4,
  "cells": [
    {
      "cell_type": "markdown",
      "metadata": {
        "id": "view-in-github",
        "colab_type": "text"
      },
      "source": [
        "<a href=\"https://colab.research.google.com/github/vaishnavi-shetty1/python_practice/blob/main/number_sum.ipynb\" target=\"_parent\"><img src=\"https://colab.research.google.com/assets/colab-badge.svg\" alt=\"Open In Colab\"/></a>"
      ]
    },
    {
      "cell_type": "code",
      "source": [
        "# Sum of natural numbers up to num\n",
        "num = int(input(\"Enter a number:\"))\n",
        "if num < 0:\n",
        "    print(\"Enter a positive number:\")\n",
        "else:\n",
        "    sum = 0\n",
        "# use while loop to iterate until zero\n",
        "while(num > 0):\n",
        "    sum += num\n",
        "    num -= 1\n",
        "print(\"The sum is\", sum)"
      ],
      "metadata": {
        "trusted": true,
        "execution": {
          "iopub.status.busy": "2024-11-22T13:32:50.479116Z",
          "iopub.execute_input": "2024-11-22T13:32:50.47957Z",
          "iopub.status.idle": "2024-11-22T13:33:02.931151Z",
          "shell.execute_reply.started": "2024-11-22T13:32:50.479534Z",
          "shell.execute_reply": "2024-11-22T13:33:02.929514Z"
        },
        "id": "X5QtLTwBFDz9"
      },
      "outputs": [],
      "execution_count": null
    }
  ]
}