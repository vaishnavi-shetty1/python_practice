{
 "cells": [
  {
   "cell_type": "code",
   "execution_count": 1,
   "id": "80408343",
   "metadata": {
    "execution": {
     "iopub.execute_input": "2024-11-21T14:14:34.429438Z",
     "iopub.status.busy": "2024-11-21T14:14:34.428993Z",
     "iopub.status.idle": "2024-11-21T14:14:34.438715Z",
     "shell.execute_reply": "2024-11-21T14:14:34.437682Z"
    },
    "papermill": {
     "duration": 0.014778,
     "end_time": "2024-11-21T14:14:34.440702",
     "exception": false,
     "start_time": "2024-11-21T14:14:34.425924",
     "status": "completed"
    },
    "tags": []
   },
   "outputs": [
    {
     "name": "stdout",
     "output_type": "stream",
     "text": [
      "37.5 degree Celsius is equal to  99.5 degree Fahrenheit\n"
     ]
    }
   ],
   "source": [
    "celsius = 37.5\n",
    "\n",
    "fahrenheit = (celsius * 1.8) + 32\n",
    "\n",
    "print(celsius, 'degree Celsius is equal to ',fahrenheit, 'degree Fahrenheit')"
   ]
  }
 ],
 "metadata": {
  "kaggle": {
   "accelerator": "none",
   "dataSources": [],
   "dockerImageVersionId": 30786,
   "isGpuEnabled": false,
   "isInternetEnabled": false,
   "language": "python",
   "sourceType": "notebook"
  },
  "kernelspec": {
   "display_name": "Python 3",
   "language": "python",
   "name": "python3"
  },
  "language_info": {
   "codemirror_mode": {
    "name": "ipython",
    "version": 3
   },
   "file_extension": ".py",
   "mimetype": "text/x-python",
   "name": "python",
   "nbconvert_exporter": "python",
   "pygments_lexer": "ipython3",
   "version": "3.10.14"
  },
  "papermill": {
   "default_parameters": {},
   "duration": 2.796308,
   "end_time": "2024-11-21T14:14:34.760923",
   "environment_variables": {},
   "exception": null,
   "input_path": "__notebook__.ipynb",
   "output_path": "__notebook__.ipynb",
   "parameters": {},
   "start_time": "2024-11-21T14:14:31.964615",
   "version": "2.6.0"
  }
 },
 "nbformat": 4,
 "nbformat_minor": 5
}
