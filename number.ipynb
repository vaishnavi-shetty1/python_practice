{
  "nbformat": 4,
  "nbformat_minor": 0,
  "metadata": {
    "colab": {
      "provenance": [],
      "authorship_tag": "ABX9TyMa/rHLfdfjEPK2LLOKGa9K",
      "include_colab_link": true
    },
    "kernelspec": {
      "name": "python3",
      "display_name": "Python 3"
    },
    "language_info": {
      "name": "python"
    }
  },
  "cells": [
    {
      "cell_type": "markdown",
      "metadata": {
        "id": "view-in-github",
        "colab_type": "text"
      },
      "source": [
        "<a href=\"https://colab.research.google.com/github/vaishnavi-shetty1/python_practice/blob/main/number.ipynb\" target=\"_parent\"><img src=\"https://colab.research.google.com/assets/colab-badge.svg\" alt=\"Open In Colab\"/></a>"
      ]
    },
    {
      "cell_type": "code",
      "execution_count": null,
      "metadata": {
        "id": "jdOH7WkhzSKt"
      },
      "outputs": [],
      "source": [
        "num = float(input(&quot;Enter a number: &quot;))\n",
        "if num &gt;= 0:\n",
        "if num == 0:\n",
        "print(&quot;Zero&quot;)\n",
        "else:\n",
        "print(&quot;Positive number&quot;)\n",
        "else:\n",
        "print(&quot;Negative number&quot;)"
      ]
    }
  ]
}